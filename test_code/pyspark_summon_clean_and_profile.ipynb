{
 "cells": [
  {
   "cell_type": "code",
   "execution_count": 1,
   "metadata": {},
   "outputs": [],
   "source": [
    "import matplotlib.pyplot as plt\n",
    "from pyspark.sql.functions import *\n",
    "\n",
    "# import pandas as pd\n",
    "# df = spark.read.csv(\"/user/netID/hw8/cleaned_input.csv\")\n",
    "df = spark.read.csv(\"/Users/katelynwang/cs476file/final_project/hw8/cleaned_input.csv\")\n"
   ]
  },
  {
   "cell_type": "code",
   "execution_count": 2,
   "metadata": {},
   "outputs": [],
   "source": [
    "df = df.toDF(*[\"key\",\"date\",\"offense\",\"ageGroup\",\"sex\",\"race\",\"borough\",\"longitude_latitude\"])\n"
   ]
  },
  {
   "cell_type": "code",
   "execution_count": 3,
   "metadata": {},
   "outputs": [
    {
     "name": "stdout",
     "output_type": "stream",
     "text": [
      "+-------+-------------------+------------+--------------------+------------------+-------+--------------------+-------------+--------------------+\n",
      "|summary|                key|        date|             offense|          ageGroup|    sex|                race|      borough|  longitude_latitude|\n",
      "+-------+-------------------+------------+--------------------+------------------+-------+--------------------+-------------+--------------------+\n",
      "|  count|            5116599|     5116599|             5114766|           5032691|5040014|             4741341|      4555618|             5116597|\n",
      "|   mean|8.166756334949538E7|        null|  1152743.5359655172| 716.7056603773585|   null|                null|         null|                null|\n",
      "| stddev|4.597853080077231E7|        null| 1.957388598561124E7|275.73680804435423|   null|                null|         null|                null|\n",
      "|    min|           10025039|  01/01/2006|\"DESTINATION; REF...|              1000|  BRONX|AMERICAN INDIAN/A...|         BORO|             Lon_Lat|\n",
      "|    25%|         4.801515E7|        null|               140.0|             355.0|   null|                null|         null|                null|\n",
      "|    50%|        7.6058121E7|        null|               140.0|             823.0|   null|                null|         null|                null|\n",
      "|    75%|        9.2833304E7|        null|               140.0|             937.0|   null|                null|         null|                null|\n",
      "|    max|        SUMMONS_KEY|SUMMONS_DATE|{RE TRIP INSPECTI...|           UNKNOWN|      U|      WHITE HISPANIC|STATEN ISLAND|POINT (-74.254902...|\n",
      "+-------+-------------------+------------+--------------------+------------------+-------+--------------------+-------------+--------------------+\n",
      "\n"
     ]
    }
   ],
   "source": [
    "# data profiling\n",
    "df.summary().show()"
   ]
  },
  {
   "cell_type": "code",
   "execution_count": 4,
   "metadata": {},
   "outputs": [
    {
     "name": "stdout",
     "output_type": "stream",
     "text": [
      "+---------+----------+--------------------+--------+---+-------+---------+--------------------+\n",
      "|      key|      date|             offense|ageGroup|sex|   race|  borough|  longitude_latitude|\n",
      "+---------+----------+--------------------+--------+---+-------+---------+--------------------+\n",
      "| 10026695|01/27/2007| SMOKING IN ELEVATOR|   25-44|  F|UNKNOWN|   QUEENS|POINT (-73.932564...|\n",
      "|109143320|03/22/2014|    OTHER ADMIN CODE|    null|  D|UNKNOWN|   QUEENS|POINT (-73.938627...|\n",
      "|109143321|03/22/2014|    OTHER ADMIN CODE|    null|  D|UNKNOWN| BROOKLYN|POINT (-73.926928...|\n",
      "|109143322|03/22/2014|    OTHER ADMIN CODE|    null|  D|UNKNOWN|   QUEENS|POINT (-73.831973...|\n",
      "|109143324|03/22/2014|DISCON: CREATE HA...|   25-44|  M|UNKNOWN|    BRONX|POINT (-73.919888...|\n",
      "|109143325|03/22/2014|    OTHER ADMIN CODE|   45-64|  M|UNKNOWN|    BRONX|POINT (-73.903177...|\n",
      "|109143326|03/22/2014|CONSUMPTION OF AL...|   25-44|  M|UNKNOWN| BROOKLYN|POINT (-73.957726...|\n",
      "|109143327|03/22/2014|CONSUMPTION OF AL...|   18-24|  M|UNKNOWN| BROOKLYN|POINT (-73.957726...|\n",
      "|109143328|03/22/2014|CONSUMPTION OF AL...|   25-44|  M|UNKNOWN| BROOKLYN|POINT (-73.949374...|\n",
      "|109143329|03/23/2014|    OTHER ADMIN CODE|   25-44|  M|UNKNOWN|    BRONX|POINT (-73.922288...|\n",
      "|109143330|03/23/2014| URINATING IN PUBLIC|   45-64|  M|UNKNOWN|    BRONX|POINT (-73.921880...|\n",
      "|109143331|03/22/2014|    PARK REGULATIONS|   25-44|  M|UNKNOWN|    BRONX|POINT (-73.902333...|\n",
      "|109143332|03/15/2014|    RECKLESS DRIVING|   25-44|  M|UNKNOWN|MANHATTAN|POINT (-73.936018...|\n",
      "|109143333|03/22/2014| URINATING IN PUBLIC|   45-64|  M|UNKNOWN|MANHATTAN|POINT (-73.956681...|\n",
      "|109143334|03/14/2014|DISCON: OBSTRUCT ...|   18-24|  M|UNKNOWN|    BRONX|POINT (-73.867424...|\n",
      "|109143335|03/22/2014|            TRESPASS|     <18|  M|UNKNOWN|    BRONX|POINT (-73.924426...|\n",
      "|109143336|03/22/2014|            TRESPASS|   18-24|  M|UNKNOWN|    BRONX|POINT (-73.924426...|\n",
      "|109143337|03/21/2014|    OTHER ADMIN CODE|   25-44|  M|UNKNOWN|    BRONX|POINT (-73.898981...|\n",
      "|109143338|03/21/2014|           LITTERING|   18-24|  M|UNKNOWN|    BRONX|POINT (-73.900368...|\n",
      "|109143339|03/22/2014| URINATING IN PUBLIC|   18-24|  M|UNKNOWN|    BRONX|POINT (-73.905161...|\n",
      "+---------+----------+--------------------+--------+---+-------+---------+--------------------+\n",
      "only showing top 20 rows\n",
      "\n"
     ]
    }
   ],
   "source": [
    "df = df.filter(df.borough!='null')\n",
    "df.show()"
   ]
  },
  {
   "cell_type": "code",
   "execution_count": 5,
   "metadata": {},
   "outputs": [
    {
     "name": "stdout",
     "output_type": "stream",
     "text": [
      "+---+----+-------+--------+-----+------+-------+------------------+\n",
      "|key|date|offense|ageGroup|  sex|  race|borough|longitude_latitude|\n",
      "+---+----+-------+--------+-----+------+-------+------------------+\n",
      "|  0|   0|   1769|   79131|76487|370865|      0|                 0|\n",
      "+---+----+-------+--------+-----+------+-------+------------------+\n",
      "\n"
     ]
    }
   ],
   "source": [
    "df.select(*(sum(col(c).isNull().cast(\"int\")).alias(c) for c in df.columns)).show()"
   ]
  },
  {
   "cell_type": "code",
   "execution_count": 23,
   "metadata": {},
   "outputs": [
    {
     "name": "stdout",
     "output_type": "stream",
     "text": [
      "+---+----+-------+--------+---+----+-------+----+-----+\n",
      "|key|date|offense|ageGroup|sex|race|borough|year|month|\n",
      "+---+----+-------+--------+---+----+-------+----+-----+\n",
      "|  0|   0|      0|       0|  0|   0|      0|   0|    0|\n",
      "+---+----+-------+--------+---+----+-------+----+-----+\n",
      "\n"
     ]
    }
   ],
   "source": [
    "df = df.dropna()\n",
    "df.select(*(sum(col(c).isNull().cast(\"int\")).alias(c) for c in df.columns)).show()"
   ]
  },
  {
   "cell_type": "code",
   "execution_count": 43,
   "metadata": {},
   "outputs": [
    {
     "name": "stdout",
     "output_type": "stream",
     "text": [
      "+--------------------+\n",
      "|                race|\n",
      "+--------------------+\n",
      "|               BLACK|\n",
      "|      WHITE HISPANIC|\n",
      "|             UNKNOWN|\n",
      "|               WHITE|\n",
      "|AMERICAN INDIAN/A...|\n",
      "|      BLACK HISPANIC|\n",
      "|               OTHER|\n",
      "|ASIAN / PACIFIC I...|\n",
      "+--------------------+\n",
      "\n",
      "+--------+\n",
      "|ageGroup|\n",
      "+--------+\n",
      "|   25-44|\n",
      "| UNKNOWN|\n",
      "|   18-24|\n",
      "|     <18|\n",
      "|     65+|\n",
      "|   45-64|\n",
      "+--------+\n",
      "\n",
      "+---+\n",
      "|sex|\n",
      "+---+\n",
      "|  M|\n",
      "|  F|\n",
      "|  U|\n",
      "+---+\n",
      "\n",
      "+--------------------+\n",
      "|             offense|\n",
      "+--------------------+\n",
      "|    RECKLESS DRIVING|\n",
      "|      POSS. OF KNIFE|\n",
      "|      ACCEPT ON HAIL|\n",
      "|EVICTION; UNLAWFU...|\n",
      "|DISCON: OBSTRUCT ...|\n",
      "|OPERATION WHILE R...|\n",
      "|NO EXIT SIGN AT D...|\n",
      "|MEDALLION PLATE; ...|\n",
      "|UNLICENSED TICKET...|\n",
      "|UNREASONABLE NOIS...|\n",
      "|    SMOKING ON A BUS|\n",
      "|        BIKE IN PARK|\n",
      "|REFUSE INSPECTION...|\n",
      "|OTHER NAVIGATION LAW|\n",
      "|IN A PUBLIC PLACE...|\n",
      "|           FIREWORKS|\n",
      "|TRIP SHEET; WITH ...|\n",
      "|PEDICAB WITHOUT O...|\n",
      "|BENCH; OBSTRUCT U...|\n",
      "|UNSOLICITED RESPO...|\n",
      "+--------------------+\n",
      "only showing top 20 rows\n",
      "\n"
     ]
    },
    {
     "data": {
      "text/plain": [
       "569"
      ]
     },
     "execution_count": 43,
     "metadata": {},
     "output_type": "execute_result"
    }
   ],
   "source": [
    "df.select('race').distinct().show()\n",
    "df.select('ageGroup').distinct().show()\n",
    "df.select('sex').distinct().show()\n",
    "df.select('offense').distinct().show()\n",
    "df.select('offense').distinct().count()"
   ]
  },
  {
   "cell_type": "code",
   "execution_count": 6,
   "metadata": {},
   "outputs": [
    {
     "data": {
      "text/plain": [
       "[('key', 'string'),\n",
       " ('date', 'string'),\n",
       " ('offense', 'string'),\n",
       " ('ageGroup', 'string'),\n",
       " ('sex', 'string'),\n",
       " ('race', 'string'),\n",
       " ('borough', 'string'),\n",
       " ('longitude_latitude', 'string')]"
      ]
     },
     "execution_count": 6,
     "metadata": {},
     "output_type": "execute_result"
    }
   ],
   "source": [
    "df.dtypes"
   ]
  },
  {
   "cell_type": "code",
   "execution_count": 7,
   "metadata": {},
   "outputs": [
    {
     "name": "stdout",
     "output_type": "stream",
     "text": [
      "+----------+-------------------------+\n",
      "|      date|to_date(date, MM/dd/yyyy)|\n",
      "+----------+-------------------------+\n",
      "|01/27/2007|               2007-01-27|\n",
      "|03/22/2014|               2014-03-22|\n",
      "|03/22/2014|               2014-03-22|\n",
      "|03/22/2014|               2014-03-22|\n",
      "|03/22/2014|               2014-03-22|\n",
      "|03/22/2014|               2014-03-22|\n",
      "|03/22/2014|               2014-03-22|\n",
      "|03/22/2014|               2014-03-22|\n",
      "|03/22/2014|               2014-03-22|\n",
      "|03/23/2014|               2014-03-23|\n",
      "|03/23/2014|               2014-03-23|\n",
      "|03/22/2014|               2014-03-22|\n",
      "|03/15/2014|               2014-03-15|\n",
      "|03/22/2014|               2014-03-22|\n",
      "|03/14/2014|               2014-03-14|\n",
      "|03/22/2014|               2014-03-22|\n",
      "|03/22/2014|               2014-03-22|\n",
      "|03/21/2014|               2014-03-21|\n",
      "|03/21/2014|               2014-03-21|\n",
      "|03/22/2014|               2014-03-22|\n",
      "+----------+-------------------------+\n",
      "only showing top 20 rows\n",
      "\n"
     ]
    }
   ],
   "source": [
    "from pyspark.sql.functions import *\n",
    "dates = df.select(col(\"date\"),to_date(col(\"date\"),\"MM/dd/yyyy\")).alias(\"date\").show()"
   ]
  },
  {
   "cell_type": "code",
   "execution_count": 8,
   "metadata": {},
   "outputs": [],
   "source": [
    "df = df.withColumn('date',to_date(col(\"date\"),\"MM/dd/yyyy\"))\n",
    "df = df.withColumn('year',date_format('date','yyyy'))\n"
   ]
  },
  {
   "cell_type": "code",
   "execution_count": 9,
   "metadata": {
    "scrolled": true
   },
   "outputs": [],
   "source": [
    "df = df.withColumn('month',date_format('date','M'))\n"
   ]
  },
  {
   "cell_type": "code",
   "execution_count": 10,
   "metadata": {},
   "outputs": [],
   "source": [
    "df = df.filter((df.year=='2018')|(df.year=='2019'))\n",
    "df = df.filter(col(\"borough\").isNotNull())"
   ]
  },
  {
   "cell_type": "code",
   "execution_count": 11,
   "metadata": {},
   "outputs": [],
   "source": [
    "df = df.replace('NEW YORK','MANHATTAN')"
   ]
  },
  {
   "cell_type": "code",
   "execution_count": 12,
   "metadata": {},
   "outputs": [
    {
     "name": "stdout",
     "output_type": "stream",
     "text": [
      "+-------------+-----+\n",
      "|      borough|count|\n",
      "+-------------+-----+\n",
      "|     BROOKLYN|34363|\n",
      "|       QUEENS|22592|\n",
      "|STATEN ISLAND| 5378|\n",
      "|        BRONX|32129|\n",
      "|    MANHATTAN|44531|\n",
      "+-------------+-----+\n",
      "\n"
     ]
    }
   ],
   "source": [
    "df = df.drop('longitude_latitude')\n",
    "df.groupBy(\"borough\").count().show()"
   ]
  },
  {
   "cell_type": "code",
   "execution_count": 19,
   "metadata": {},
   "outputs": [],
   "source": [
    "exp_df = df.groupBy(\"borough\",\"date\").count()"
   ]
  },
  {
   "cell_type": "code",
   "execution_count": 20,
   "metadata": {},
   "outputs": [
    {
     "name": "stdout",
     "output_type": "stream",
     "text": [
      "+-------------+----------+-----+\n",
      "|      borough|      date|count|\n",
      "+-------------+----------+-----+\n",
      "|     BROOKLYN|2018-01-27|   77|\n",
      "|     BROOKLYN|2018-09-20|   39|\n",
      "|       QUEENS|2018-07-21|   18|\n",
      "|     BROOKLYN|2018-08-04|   38|\n",
      "|STATEN ISLAND|2018-06-13|    6|\n",
      "|       QUEENS|2019-01-10|   30|\n",
      "|    MANHATTAN|2018-05-06|   30|\n",
      "|     BROOKLYN|2018-01-29|   35|\n",
      "|       QUEENS|2018-03-08|   34|\n",
      "|     BROOKLYN|2018-03-14|   43|\n",
      "|    MANHATTAN|2018-03-25|   21|\n",
      "|STATEN ISLAND|2018-04-05|    8|\n",
      "|STATEN ISLAND|2018-04-28|   19|\n",
      "|STATEN ISLAND|2018-05-24|    5|\n",
      "|STATEN ISLAND|2018-06-27|    9|\n",
      "|        BRONX|2018-09-27|   24|\n",
      "|     BROOKLYN|2018-12-03|   22|\n",
      "|    MANHATTAN|2018-12-06|   57|\n",
      "|       QUEENS|2018-12-17|    5|\n",
      "|     BROOKLYN|2019-03-16|   39|\n",
      "+-------------+----------+-----+\n",
      "only showing top 20 rows\n",
      "\n"
     ]
    }
   ],
   "source": [
    "exp_df.show()"
   ]
  },
  {
   "cell_type": "code",
   "execution_count": 21,
   "metadata": {},
   "outputs": [
    {
     "name": "stdout",
     "output_type": "stream",
     "text": [
      "+-------------+----------+-----+\n",
      "|      borough|      date|count|\n",
      "+-------------+----------+-----+\n",
      "|     BROOKLYN|2018-01-27|   77|\n",
      "|     BROOKLYN|2018-09-20|   39|\n",
      "|       QUEENS|2018-07-21|   18|\n",
      "|     BROOKLYN|2018-08-04|   38|\n",
      "|STATEN ISLAND|2018-06-13|    6|\n",
      "|       QUEENS|2019-01-10|   30|\n",
      "|    MANHATTAN|2018-05-06|   30|\n",
      "|     BROOKLYN|2018-01-29|   35|\n",
      "|       QUEENS|2018-03-08|   34|\n",
      "|     BROOKLYN|2018-03-14|   43|\n",
      "|    MANHATTAN|2018-03-25|   21|\n",
      "|STATEN ISLAND|2018-04-05|    8|\n",
      "|STATEN ISLAND|2018-04-28|   19|\n",
      "|STATEN ISLAND|2018-05-24|    5|\n",
      "|STATEN ISLAND|2018-06-27|    9|\n",
      "|        BRONX|2018-09-27|   24|\n",
      "|     BROOKLYN|2018-12-03|   22|\n",
      "|    MANHATTAN|2018-12-06|   57|\n",
      "|       QUEENS|2018-12-17|    5|\n",
      "|     BROOKLYN|2019-03-16|   39|\n",
      "+-------------+----------+-----+\n",
      "only showing top 20 rows\n",
      "\n"
     ]
    }
   ],
   "source": [
    "df.groupBy(\"borough\",\"date\").count().show()"
   ]
  },
  {
   "cell_type": "code",
   "execution_count": 34,
   "metadata": {
    "scrolled": true
   },
   "outputs": [
    {
     "name": "stdout",
     "output_type": "stream",
     "text": [
      "+----+-----+-----+\n",
      "|year|month|count|\n",
      "+----+-----+-----+\n",
      "|2018|    1| 5346|\n",
      "|2018|    9| 3599|\n",
      "|2018|    6| 3876|\n",
      "|2018|    8| 4197|\n",
      "|2018|    7| 4582|\n",
      "|2019|    1| 3310|\n",
      "|2018|    3| 4970|\n",
      "|2019|    4| 2825|\n",
      "|2018|   10| 3421|\n",
      "|2019|   11| 2249|\n",
      "|2019|    6| 3101|\n",
      "|2019|    8| 3014|\n",
      "|2019|    3| 3310|\n",
      "|2018|   12| 2883|\n",
      "|2019|   12| 1771|\n",
      "|2019|   10| 2187|\n",
      "|2018|   11| 3032|\n",
      "|2018|    5| 4567|\n",
      "|2019|    7| 3692|\n",
      "|2019|    9| 2849|\n",
      "+----+-----+-----+\n",
      "only showing top 20 rows\n",
      "\n"
     ]
    }
   ],
   "source": [
    "df.groupBy(\"year\",\"month\").count().show()"
   ]
  },
  {
   "cell_type": "code",
   "execution_count": 29,
   "metadata": {},
   "outputs": [
    {
     "name": "stdout",
     "output_type": "stream",
     "text": [
      "+--------------------+-----+\n",
      "|             offense|count|\n",
      "+--------------------+-----+\n",
      "|ALCOHOLIC BEVERAG...| 5678|\n",
      "|OPERATION WHILE R...| 5279|\n",
      "|NON PAYMENT OF FA...| 4559|\n",
      "|            TRESPASS| 4541|\n",
      "|    RECKLESS DRIVING| 4017|\n",
      "|CONSUMPTION OF AL...| 3432|\n",
      "|OBSTRUCTS VEHICUL...| 3406|\n",
      "|MOTOR VEHICLE; EN...| 3261|\n",
      "|      ACCEPT ON HAIL| 3041|\n",
      "|FEDERAL MOTOR VEH...| 2591|\n",
      "|  DISORDERLY CONDUCT| 2245|\n",
      "|UNLICENSED VEHICL...| 1541|\n",
      "|   OTHER TRANSIT REG| 1323|\n",
      "|CREATES A HAZARDO...| 1221|\n",
      "|REVOKED REGISTRATION| 1115|\n",
      "|    PUBLIC URINATION| 1105|\n",
      "|CONGREGATES WITH ...| 1041|\n",
      "|PICK UP FROM BUS ...|  956|\n",
      "|UNLAWFUL POSSESSI...|  861|\n",
      "|           OTHER ABC|  828|\n",
      "+--------------------+-----+\n",
      "only showing top 20 rows\n",
      "\n"
     ]
    }
   ],
   "source": [
    "# MOST COMMON OFFENSE\n",
    "df.groupBy(\"offense\").count().sort(col('count').desc()).show()"
   ]
  },
  {
   "cell_type": "code",
   "execution_count": 33,
   "metadata": {},
   "outputs": [
    {
     "name": "stdout",
     "output_type": "stream",
     "text": [
      "+--------------------+-----+\n",
      "|             offense|count|\n",
      "+--------------------+-----+\n",
      "|ALCOHOLIC BEVERAG...| 5169|\n",
      "|OPERATION WHILE R...| 4141|\n",
      "|NON PAYMENT OF FA...| 4039|\n",
      "|    RECKLESS DRIVING| 3601|\n",
      "|            TRESPASS| 3547|\n",
      "|CONSUMPTION OF AL...| 3153|\n",
      "|      ACCEPT ON HAIL| 2978|\n",
      "|OBSTRUCTS VEHICUL...| 2949|\n",
      "|MOTOR VEHICLE; EN...| 2917|\n",
      "|FEDERAL MOTOR VEH...| 2055|\n",
      "|  DISORDERLY CONDUCT| 1778|\n",
      "|UNLICENSED VEHICL...| 1498|\n",
      "|   OTHER TRANSIT REG| 1220|\n",
      "|    PUBLIC URINATION| 1053|\n",
      "|CREATES A HAZARDO...| 1049|\n",
      "|PICK UP FROM BUS ...|  948|\n",
      "|REVOKED REGISTRATION|  852|\n",
      "|CONGREGATES WITH ...|  811|\n",
      "|UNLAWFUL POSSESSI...|  797|\n",
      "|RESTRICTIONS ON T...|  715|\n",
      "+--------------------+-----+\n",
      "only showing top 20 rows\n",
      "\n",
      "+--------------------+-----+\n",
      "|             offense|count|\n",
      "+--------------------+-----+\n",
      "|OPERATION WHILE R...| 1134|\n",
      "|            TRESPASS|  981|\n",
      "|ALCOHOLIC BEVERAG...|  503|\n",
      "|NON PAYMENT OF FA...|  502|\n",
      "|OBSTRUCTS VEHICUL...|  452|\n",
      "|  DISORDERLY CONDUCT|  451|\n",
      "|    RECKLESS DRIVING|  408|\n",
      "|MOTOR VEHICLE; EN...|  342|\n",
      "|CONSUMPTION OF AL...|  271|\n",
      "|REVOKED REGISTRATION|  263|\n",
      "|CONGREGATES WITH ...|  228|\n",
      "|           OTHER ABC|  183|\n",
      "|CREATES A HAZARDO...|  167|\n",
      "|  EXPOSURE OF PERSON|  148|\n",
      "|    DISCON: FIGHTING|  145|\n",
      "|SALE TO A MINOR (...|  130|\n",
      "|  DISORDERLY PREMISE|  118|\n",
      "|   OTHER TRANSIT REG|  101|\n",
      "|  OTHER BUSINESS LAW|   91|\n",
      "|MAKES UNREASONABL...|   87|\n",
      "+--------------------+-----+\n",
      "only showing top 20 rows\n",
      "\n"
     ]
    }
   ],
   "source": [
    "# BY GENDER\n",
    "df.filter(df.sex == 'M').groupBy(\"offense\").count().sort(col('count').desc()).show()\n",
    "df.filter(df.sex == 'F').groupBy(\"offense\").count().sort(col('count').desc()).show()"
   ]
  },
  {
   "cell_type": "code",
   "execution_count": 36,
   "metadata": {},
   "outputs": [
    {
     "name": "stdout",
     "output_type": "stream",
     "text": [
      "+--------+-------------+-----+\n",
      "|ageGroup|      borough|count|\n",
      "+--------+-------------+-----+\n",
      "|   25-44|        BRONX|12525|\n",
      "|   25-44|     BROOKLYN|11344|\n",
      "|   25-44|    MANHATTAN|10538|\n",
      "|   25-44|       QUEENS| 6990|\n",
      "|   45-64|     BROOKLYN| 6787|\n",
      "|   45-64|        BRONX| 5555|\n",
      "|   18-24|        BRONX| 5198|\n",
      "|   45-64|    MANHATTAN| 4750|\n",
      "|   45-64|       QUEENS| 3804|\n",
      "|   18-24|     BROOKLYN| 3716|\n",
      "|   18-24|    MANHATTAN| 3380|\n",
      "|   18-24|       QUEENS| 2290|\n",
      "|   25-44|STATEN ISLAND| 1675|\n",
      "|   45-64|STATEN ISLAND|  804|\n",
      "|     <18|     BROOKLYN|  759|\n",
      "|     <18|        BRONX|  746|\n",
      "|   18-24|STATEN ISLAND|  636|\n",
      "|     65+|     BROOKLYN|  613|\n",
      "|     65+|       QUEENS|  376|\n",
      "|     65+|    MANHATTAN|  354|\n",
      "+--------+-------------+-----+\n",
      "only showing top 20 rows\n",
      "\n"
     ]
    }
   ],
   "source": [
    "# WAHT AGEGROUP HAS THE HIGHEST NUMBER OF SUMMON, IN WHICH AREA?\n",
    "df.groupBy(\"ageGroup\",\"borough\").count().sort(col('count').desc()).show()"
   ]
  },
  {
   "cell_type": "code",
   "execution_count": 44,
   "metadata": {},
   "outputs": [
    {
     "name": "stdout",
     "output_type": "stream",
     "text": [
      "+--------------------+-------------+-----+\n",
      "|                race|      borough|count|\n",
      "+--------------------+-------------+-----+\n",
      "|               BLACK|     BROOKLYN|12952|\n",
      "|               BLACK|        BRONX|10630|\n",
      "|      WHITE HISPANIC|        BRONX| 7522|\n",
      "|               BLACK|       QUEENS| 6331|\n",
      "|               BLACK|    MANHATTAN| 6219|\n",
      "|               WHITE|    MANHATTAN| 4527|\n",
      "|      BLACK HISPANIC|        BRONX| 4339|\n",
      "|      WHITE HISPANIC|     BROOKLYN| 3934|\n",
      "|      WHITE HISPANIC|       QUEENS| 3509|\n",
      "|      WHITE HISPANIC|    MANHATTAN| 3465|\n",
      "|               WHITE|     BROOKLYN| 2654|\n",
      "|ASIAN / PACIFIC I...|       QUEENS| 2031|\n",
      "|ASIAN / PACIFIC I...|    MANHATTAN| 1654|\n",
      "|             UNKNOWN|    MANHATTAN| 1539|\n",
      "|             UNKNOWN|     BROOKLYN| 1478|\n",
      "|      BLACK HISPANIC|    MANHATTAN| 1403|\n",
      "|               BLACK|STATEN ISLAND| 1354|\n",
      "|ASIAN / PACIFIC I...|     BROOKLYN| 1286|\n",
      "|               WHITE|       QUEENS|  994|\n",
      "|      WHITE HISPANIC|STATEN ISLAND|  861|\n",
      "+--------------------+-------------+-----+\n",
      "only showing top 20 rows\n",
      "\n",
      "+--------------+--------------------+-----+\n",
      "|          race|             offense|count|\n",
      "+--------------+--------------------+-----+\n",
      "|         BLACK|ALCOHOLIC BEVERAG...| 2771|\n",
      "|         BLACK|NON PAYMENT OF FA...| 2634|\n",
      "|         BLACK|      ACCEPT ON HAIL| 2448|\n",
      "|         BLACK|OPERATION WHILE R...| 2393|\n",
      "|         BLACK|            TRESPASS| 2197|\n",
      "|         BLACK|MOTOR VEHICLE; EN...| 1768|\n",
      "|         BLACK|CONSUMPTION OF AL...| 1758|\n",
      "|WHITE HISPANIC|ALCOHOLIC BEVERAG...| 1685|\n",
      "|         BLACK|    RECKLESS DRIVING| 1660|\n",
      "|       UNKNOWN|FEDERAL MOTOR VEH...| 1569|\n",
      "|         BLACK|OBSTRUCTS VEHICUL...| 1485|\n",
      "|WHITE HISPANIC|OPERATION WHILE R...| 1285|\n",
      "|         BLACK|UNLICENSED VEHICL...| 1146|\n",
      "|         BLACK|  DISORDERLY CONDUCT| 1140|\n",
      "|WHITE HISPANIC|NON PAYMENT OF FA...| 1090|\n",
      "|WHITE HISPANIC|            TRESPASS| 1066|\n",
      "|WHITE HISPANIC|CONSUMPTION OF AL...|  967|\n",
      "|         BLACK|PICK UP FROM BUS ...|  793|\n",
      "|WHITE HISPANIC|    RECKLESS DRIVING|  746|\n",
      "|WHITE HISPANIC|OBSTRUCTS VEHICUL...|  736|\n",
      "+--------------+--------------------+-----+\n",
      "only showing top 20 rows\n",
      "\n",
      "+--------------------+--------+-----+\n",
      "|                race|ageGroup|count|\n",
      "+--------------------+--------+-----+\n",
      "|               BLACK|   25-44|18598|\n",
      "|               BLACK|   45-64|10225|\n",
      "|      WHITE HISPANIC|   25-44|10188|\n",
      "|               BLACK|   18-24| 6522|\n",
      "|               WHITE|   25-44| 5287|\n",
      "|      WHITE HISPANIC|   45-64| 4816|\n",
      "|      BLACK HISPANIC|   25-44| 3675|\n",
      "|      WHITE HISPANIC|   18-24| 3441|\n",
      "|ASIAN / PACIFIC I...|   25-44| 2738|\n",
      "|               WHITE|   45-64| 2078|\n",
      "|             UNKNOWN|   25-44| 2020|\n",
      "|               WHITE|   18-24| 1927|\n",
      "|      BLACK HISPANIC|   18-24| 1701|\n",
      "|ASIAN / PACIFIC I...|   45-64| 1476|\n",
      "|             UNKNOWN|   45-64| 1426|\n",
      "|      BLACK HISPANIC|   45-64| 1339|\n",
      "|               BLACK|     <18| 1155|\n",
      "|ASIAN / PACIFIC I...|   18-24| 1076|\n",
      "|               BLACK|     65+|  877|\n",
      "|      WHITE HISPANIC|     <18|  525|\n",
      "+--------------------+--------+-----+\n",
      "only showing top 20 rows\n",
      "\n"
     ]
    }
   ],
   "source": [
    "# RACE\n",
    "df.groupBy(\"race\",\"borough\").count().sort(col('count').desc()).show()\n",
    "df.groupBy(\"race\",\"offense\").count().sort(col('count').desc()).show()\n",
    "df.groupBy(\"race\",\"ageGroup\").count().sort(col('count').desc()).show()"
   ]
  },
  {
   "cell_type": "code",
   "execution_count": 45,
   "metadata": {},
   "outputs": [
    {
     "name": "stdout",
     "output_type": "stream",
     "text": [
      "+--------------+--------+---------+-----+\n",
      "|          race|ageGroup|  borough|count|\n",
      "+--------------+--------+---------+-----+\n",
      "|         BLACK|   25-44| BROOKLYN| 6164|\n",
      "|         BLACK|   25-44|    BRONX| 5443|\n",
      "|WHITE HISPANIC|   25-44|    BRONX| 3918|\n",
      "|         BLACK|   45-64| BROOKLYN| 3900|\n",
      "|         BLACK|   25-44|   QUEENS| 3237|\n",
      "|         BLACK|   25-44|MANHATTAN| 3097|\n",
      "|         WHITE|   25-44|MANHATTAN| 2709|\n",
      "|         BLACK|   45-64|    BRONX| 2487|\n",
      "|BLACK HISPANIC|   25-44|    BRONX| 2192|\n",
      "|         BLACK|   18-24|    BRONX| 2179|\n",
      "|         BLACK|   18-24| BROOKLYN| 2019|\n",
      "|WHITE HISPANIC|   25-44| BROOKLYN| 1986|\n",
      "|WHITE HISPANIC|   25-44|   QUEENS| 1898|\n",
      "|WHITE HISPANIC|   25-44|MANHATTAN| 1878|\n",
      "|         BLACK|   45-64|MANHATTAN| 1822|\n",
      "|         BLACK|   45-64|   QUEENS| 1724|\n",
      "|WHITE HISPANIC|   45-64|    BRONX| 1711|\n",
      "|WHITE HISPANIC|   18-24|    BRONX| 1571|\n",
      "|         WHITE|   25-44| BROOKLYN| 1316|\n",
      "|BLACK HISPANIC|   18-24|    BRONX| 1161|\n",
      "+--------------+--------+---------+-----+\n",
      "only showing top 20 rows\n",
      "\n"
     ]
    }
   ],
   "source": [
    "df.groupBy(\"race\",\"ageGroup\",\"borough\").count().sort(col('count').desc()).show()"
   ]
  },
  {
   "cell_type": "code",
   "execution_count": null,
   "metadata": {},
   "outputs": [],
   "source": []
  }
 ],
 "metadata": {
  "kernelspec": {
   "display_name": "Python 3",
   "language": "python",
   "name": "python3"
  },
  "language_info": {
   "codemirror_mode": {
    "name": "ipython",
    "version": 3
   },
   "file_extension": ".py",
   "mimetype": "text/x-python",
   "name": "python",
   "nbconvert_exporter": "python",
   "pygments_lexer": "ipython3",
   "version": "3.8.5"
  }
 },
 "nbformat": 4,
 "nbformat_minor": 4
}
